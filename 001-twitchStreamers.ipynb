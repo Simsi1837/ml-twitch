{
 "cells": [
  {
   "cell_type": "code",
   "id": "initial_id",
   "metadata": {
    "collapsed": true,
    "ExecuteTime": {
     "end_time": "2024-11-14T10:20:51.897328Z",
     "start_time": "2024-11-14T10:20:51.604237Z"
    }
   },
   "source": [
    "import pandas as pd\n",
    "import numpy as np\n",
    "import matplotlib.pyplot as plt\n",
    "import seaborn as sns\n",
    "\n",
    "import warnings\n",
    "\n",
    "warnings.filterwarnings(\"ignore\", category=FutureWarning)\n",
    "\n",
    "from sklearn.model_selection import train_test_split\n",
    "from sklearn.preprocessing import StandardScaler\n",
    "from sklearn.linear_model import LinearRegression\n",
    "from sklearn.metrics import mean_squared_error, r2_score"
   ],
   "outputs": [],
   "execution_count": 1
  },
  {
   "metadata": {
    "ExecuteTime": {
     "end_time": "2024-11-14T09:22:22.963972Z",
     "start_time": "2024-11-14T09:22:22.872349Z"
    }
   },
   "cell_type": "code",
   "source": [
    "#Read Data\n",
    "df = pd.read_csv('001project.csv')"
   ],
   "id": "af518ff2de72cec3",
   "outputs": [],
   "execution_count": 4
  },
  {
   "metadata": {
    "ExecuteTime": {
     "end_time": "2024-11-14T09:22:23.146374Z",
     "start_time": "2024-11-14T09:22:23.052746Z"
    }
   },
   "cell_type": "code",
   "source": [
    "#Display all Data\n",
    "df"
   ],
   "id": "4b9a0462ff96d688",
   "outputs": [
    {
     "data": {
      "text/plain": [
       "     RANK         NAME    LANGUAGE         TYPE  \\\n",
       "0       1     kaicenat     English  personality   \n",
       "1       2       jynxzi     English  personality   \n",
       "2       3      caedrel     English  personality   \n",
       "3       4      caseoh_     English  personality   \n",
       "4       5         ibai     Spanish  personality   \n",
       "..    ...          ...         ...          ...   \n",
       "994   996        jlcs2     English  personality   \n",
       "995   997     nobru_xy  Portuguese  personality   \n",
       "996   998     buxexa_t  Portuguese  personality   \n",
       "997   999  sweetdreams     English  personality   \n",
       "998  1000  giantwaffle     English  personality   \n",
       "\n",
       "                 MOST_STREAMED_GAME 2ND_MOST_STREAMED_GAME  \\\n",
       "0                     Just Chatting      I'm Only Sleeping   \n",
       "1    Tom Clancy's Rainbow Six Siege               NBA 2K20   \n",
       "2                 League of Legends      I'm Only Sleeping   \n",
       "3                          NBA 2K23          Just Chatting   \n",
       "4                     Just Chatting      League of Legends   \n",
       "..                              ...                    ...   \n",
       "994                  Counter-Strike          Just Chatting   \n",
       "995                  Virtual Casino                    NaN   \n",
       "996                  Virtual Casino                  Slots   \n",
       "997                    Apex Legends      Z1: Battle Royale   \n",
       "998                       Minecraft          Just Chatting   \n",
       "\n",
       "     AVERAGE_STREAM_DURATION  FOLLOWERS_GAINED_PER_STREAM  \\\n",
       "0                        7.6                        18405   \n",
       "1                        5.4                         3386   \n",
       "2                        6.3                          689   \n",
       "3                        4.6                         7185   \n",
       "4                        4.1                         8289   \n",
       "..                       ...                          ...   \n",
       "994                      4.0                         2480   \n",
       "995                     10.4                         8740   \n",
       "996                      9.6                         2160   \n",
       "997                      5.1                         6050   \n",
       "998                      7.9                          970   \n",
       "\n",
       "     AVG_VIEWERS_PER_STREAM  AVG_GAMES_PER_STREAM  TOTAL_TIME_STREAMED  \\\n",
       "0                     15852                   2.3                 4698   \n",
       "1                      1145                   1.2                 8407   \n",
       "2                     12331                   1.3                 6728   \n",
       "3                         0                   3.6                 2554   \n",
       "4                    190714                   1.5                 6865   \n",
       "..                      ...                   ...                  ...   \n",
       "994                    1423                   1.3                 1873   \n",
       "995                       0                   1.0                  210   \n",
       "996                       0                   1.0                  190   \n",
       "997                    1619                   1.1                 6827   \n",
       "998                   21465                   2.7                19426   \n",
       "\n",
       "     TOTAL_FOLLOWERS  TOTAL_VIEWS  TOTAL_GAMES_STREAMED  ACTIVE_DAYS_PER_WEEK  \\\n",
       "0           10600000      9150000                   194                   3.6   \n",
       "1            5760000      1950000                    54                   5.6   \n",
       "2             797000     14200000                   111                   2.8   \n",
       "3            4220000           53                   385                   6.2   \n",
       "4           15600000    359000000                   149                   4.3   \n",
       "..               ...          ...                   ...                   ...   \n",
       "994           133000       766000                    31                   1.8   \n",
       "995             1300            0                     1                   0.8   \n",
       "996             1300            0                     2                   0.4   \n",
       "997           837000     22400000                    24                   3.6   \n",
       "998           856000     74500000                   782                   6.3   \n",
       "\n",
       "    MOST_ACTIVE_DAY DAY_WITH_MOST_FOLLOWERS_GAINED  \n",
       "0            Friday                       Saturday  \n",
       "1           Tuesday                         Sunday  \n",
       "2          Thursday                         Sunday  \n",
       "3            Friday                         Monday  \n",
       "4         Wednesday                       Saturday  \n",
       "..              ...                            ...  \n",
       "994          Monday                       Saturday  \n",
       "995          Friday                         Friday  \n",
       "996        Thursday                       Thursday  \n",
       "997         Tuesday                         Monday  \n",
       "998         Tuesday                         Sunday  \n",
       "\n",
       "[999 rows x 17 columns]"
      ],
      "text/html": [
       "<div>\n",
       "<style scoped>\n",
       "    .dataframe tbody tr th:only-of-type {\n",
       "        vertical-align: middle;\n",
       "    }\n",
       "\n",
       "    .dataframe tbody tr th {\n",
       "        vertical-align: top;\n",
       "    }\n",
       "\n",
       "    .dataframe thead th {\n",
       "        text-align: right;\n",
       "    }\n",
       "</style>\n",
       "<table border=\"1\" class=\"dataframe\">\n",
       "  <thead>\n",
       "    <tr style=\"text-align: right;\">\n",
       "      <th></th>\n",
       "      <th>RANK</th>\n",
       "      <th>NAME</th>\n",
       "      <th>LANGUAGE</th>\n",
       "      <th>TYPE</th>\n",
       "      <th>MOST_STREAMED_GAME</th>\n",
       "      <th>2ND_MOST_STREAMED_GAME</th>\n",
       "      <th>AVERAGE_STREAM_DURATION</th>\n",
       "      <th>FOLLOWERS_GAINED_PER_STREAM</th>\n",
       "      <th>AVG_VIEWERS_PER_STREAM</th>\n",
       "      <th>AVG_GAMES_PER_STREAM</th>\n",
       "      <th>TOTAL_TIME_STREAMED</th>\n",
       "      <th>TOTAL_FOLLOWERS</th>\n",
       "      <th>TOTAL_VIEWS</th>\n",
       "      <th>TOTAL_GAMES_STREAMED</th>\n",
       "      <th>ACTIVE_DAYS_PER_WEEK</th>\n",
       "      <th>MOST_ACTIVE_DAY</th>\n",
       "      <th>DAY_WITH_MOST_FOLLOWERS_GAINED</th>\n",
       "    </tr>\n",
       "  </thead>\n",
       "  <tbody>\n",
       "    <tr>\n",
       "      <th>0</th>\n",
       "      <td>1</td>\n",
       "      <td>kaicenat</td>\n",
       "      <td>English</td>\n",
       "      <td>personality</td>\n",
       "      <td>Just Chatting</td>\n",
       "      <td>I'm Only Sleeping</td>\n",
       "      <td>7.6</td>\n",
       "      <td>18405</td>\n",
       "      <td>15852</td>\n",
       "      <td>2.3</td>\n",
       "      <td>4698</td>\n",
       "      <td>10600000</td>\n",
       "      <td>9150000</td>\n",
       "      <td>194</td>\n",
       "      <td>3.6</td>\n",
       "      <td>Friday</td>\n",
       "      <td>Saturday</td>\n",
       "    </tr>\n",
       "    <tr>\n",
       "      <th>1</th>\n",
       "      <td>2</td>\n",
       "      <td>jynxzi</td>\n",
       "      <td>English</td>\n",
       "      <td>personality</td>\n",
       "      <td>Tom Clancy's Rainbow Six Siege</td>\n",
       "      <td>NBA 2K20</td>\n",
       "      <td>5.4</td>\n",
       "      <td>3386</td>\n",
       "      <td>1145</td>\n",
       "      <td>1.2</td>\n",
       "      <td>8407</td>\n",
       "      <td>5760000</td>\n",
       "      <td>1950000</td>\n",
       "      <td>54</td>\n",
       "      <td>5.6</td>\n",
       "      <td>Tuesday</td>\n",
       "      <td>Sunday</td>\n",
       "    </tr>\n",
       "    <tr>\n",
       "      <th>2</th>\n",
       "      <td>3</td>\n",
       "      <td>caedrel</td>\n",
       "      <td>English</td>\n",
       "      <td>personality</td>\n",
       "      <td>League of Legends</td>\n",
       "      <td>I'm Only Sleeping</td>\n",
       "      <td>6.3</td>\n",
       "      <td>689</td>\n",
       "      <td>12331</td>\n",
       "      <td>1.3</td>\n",
       "      <td>6728</td>\n",
       "      <td>797000</td>\n",
       "      <td>14200000</td>\n",
       "      <td>111</td>\n",
       "      <td>2.8</td>\n",
       "      <td>Thursday</td>\n",
       "      <td>Sunday</td>\n",
       "    </tr>\n",
       "    <tr>\n",
       "      <th>3</th>\n",
       "      <td>4</td>\n",
       "      <td>caseoh_</td>\n",
       "      <td>English</td>\n",
       "      <td>personality</td>\n",
       "      <td>NBA 2K23</td>\n",
       "      <td>Just Chatting</td>\n",
       "      <td>4.6</td>\n",
       "      <td>7185</td>\n",
       "      <td>0</td>\n",
       "      <td>3.6</td>\n",
       "      <td>2554</td>\n",
       "      <td>4220000</td>\n",
       "      <td>53</td>\n",
       "      <td>385</td>\n",
       "      <td>6.2</td>\n",
       "      <td>Friday</td>\n",
       "      <td>Monday</td>\n",
       "    </tr>\n",
       "    <tr>\n",
       "      <th>4</th>\n",
       "      <td>5</td>\n",
       "      <td>ibai</td>\n",
       "      <td>Spanish</td>\n",
       "      <td>personality</td>\n",
       "      <td>Just Chatting</td>\n",
       "      <td>League of Legends</td>\n",
       "      <td>4.1</td>\n",
       "      <td>8289</td>\n",
       "      <td>190714</td>\n",
       "      <td>1.5</td>\n",
       "      <td>6865</td>\n",
       "      <td>15600000</td>\n",
       "      <td>359000000</td>\n",
       "      <td>149</td>\n",
       "      <td>4.3</td>\n",
       "      <td>Wednesday</td>\n",
       "      <td>Saturday</td>\n",
       "    </tr>\n",
       "    <tr>\n",
       "      <th>...</th>\n",
       "      <td>...</td>\n",
       "      <td>...</td>\n",
       "      <td>...</td>\n",
       "      <td>...</td>\n",
       "      <td>...</td>\n",
       "      <td>...</td>\n",
       "      <td>...</td>\n",
       "      <td>...</td>\n",
       "      <td>...</td>\n",
       "      <td>...</td>\n",
       "      <td>...</td>\n",
       "      <td>...</td>\n",
       "      <td>...</td>\n",
       "      <td>...</td>\n",
       "      <td>...</td>\n",
       "      <td>...</td>\n",
       "      <td>...</td>\n",
       "    </tr>\n",
       "    <tr>\n",
       "      <th>994</th>\n",
       "      <td>996</td>\n",
       "      <td>jlcs2</td>\n",
       "      <td>English</td>\n",
       "      <td>personality</td>\n",
       "      <td>Counter-Strike</td>\n",
       "      <td>Just Chatting</td>\n",
       "      <td>4.0</td>\n",
       "      <td>2480</td>\n",
       "      <td>1423</td>\n",
       "      <td>1.3</td>\n",
       "      <td>1873</td>\n",
       "      <td>133000</td>\n",
       "      <td>766000</td>\n",
       "      <td>31</td>\n",
       "      <td>1.8</td>\n",
       "      <td>Monday</td>\n",
       "      <td>Saturday</td>\n",
       "    </tr>\n",
       "    <tr>\n",
       "      <th>995</th>\n",
       "      <td>997</td>\n",
       "      <td>nobru_xy</td>\n",
       "      <td>Portuguese</td>\n",
       "      <td>personality</td>\n",
       "      <td>Virtual Casino</td>\n",
       "      <td>NaN</td>\n",
       "      <td>10.4</td>\n",
       "      <td>8740</td>\n",
       "      <td>0</td>\n",
       "      <td>1.0</td>\n",
       "      <td>210</td>\n",
       "      <td>1300</td>\n",
       "      <td>0</td>\n",
       "      <td>1</td>\n",
       "      <td>0.8</td>\n",
       "      <td>Friday</td>\n",
       "      <td>Friday</td>\n",
       "    </tr>\n",
       "    <tr>\n",
       "      <th>996</th>\n",
       "      <td>998</td>\n",
       "      <td>buxexa_t</td>\n",
       "      <td>Portuguese</td>\n",
       "      <td>personality</td>\n",
       "      <td>Virtual Casino</td>\n",
       "      <td>Slots</td>\n",
       "      <td>9.6</td>\n",
       "      <td>2160</td>\n",
       "      <td>0</td>\n",
       "      <td>1.0</td>\n",
       "      <td>190</td>\n",
       "      <td>1300</td>\n",
       "      <td>0</td>\n",
       "      <td>2</td>\n",
       "      <td>0.4</td>\n",
       "      <td>Thursday</td>\n",
       "      <td>Thursday</td>\n",
       "    </tr>\n",
       "    <tr>\n",
       "      <th>997</th>\n",
       "      <td>999</td>\n",
       "      <td>sweetdreams</td>\n",
       "      <td>English</td>\n",
       "      <td>personality</td>\n",
       "      <td>Apex Legends</td>\n",
       "      <td>Z1: Battle Royale</td>\n",
       "      <td>5.1</td>\n",
       "      <td>6050</td>\n",
       "      <td>1619</td>\n",
       "      <td>1.1</td>\n",
       "      <td>6827</td>\n",
       "      <td>837000</td>\n",
       "      <td>22400000</td>\n",
       "      <td>24</td>\n",
       "      <td>3.6</td>\n",
       "      <td>Tuesday</td>\n",
       "      <td>Monday</td>\n",
       "    </tr>\n",
       "    <tr>\n",
       "      <th>998</th>\n",
       "      <td>1000</td>\n",
       "      <td>giantwaffle</td>\n",
       "      <td>English</td>\n",
       "      <td>personality</td>\n",
       "      <td>Minecraft</td>\n",
       "      <td>Just Chatting</td>\n",
       "      <td>7.9</td>\n",
       "      <td>970</td>\n",
       "      <td>21465</td>\n",
       "      <td>2.7</td>\n",
       "      <td>19426</td>\n",
       "      <td>856000</td>\n",
       "      <td>74500000</td>\n",
       "      <td>782</td>\n",
       "      <td>6.3</td>\n",
       "      <td>Tuesday</td>\n",
       "      <td>Sunday</td>\n",
       "    </tr>\n",
       "  </tbody>\n",
       "</table>\n",
       "<p>999 rows × 17 columns</p>\n",
       "</div>"
      ]
     },
     "execution_count": 5,
     "metadata": {},
     "output_type": "execute_result"
    }
   ],
   "execution_count": 5
  },
  {
   "metadata": {},
   "cell_type": "markdown",
   "source": "#Create numpy array of numeric data",
   "id": "f1f5f7a1617a970e"
  },
  {
   "metadata": {},
   "cell_type": "markdown",
   "source": [
    "Die Daten sind eher nicht homogen verteilt, da die Standardabweichung der einzelnen Spalten sehr unterschiedlich ist.Die Spalte \"TOTAL_TIME_STREAMED\" hat eine sehr hohe Standardabweichung, was darauf hindeutet, dass die Werte in dieser Spalte weit auseinander liegen. Die Spalte \"AVG_GAMES_PER_STREAM\" hat eine sehr niedrige Standardabweichung, was darauf hindeutet, dass die Werte in dieser Spalte sehr nah beieinander liegen.\n",
    "\n"
   ],
   "id": "5db43880501a8164"
  },
  {
   "metadata": {
    "ExecuteTime": {
     "end_time": "2024-11-14T09:22:23.516681Z",
     "start_time": "2024-11-14T09:22:23.476829Z"
    }
   },
   "cell_type": "code",
   "source": [
    "arr = np.array(df[['AVERAGE_STREAM_DURATION', 'FOLLOWERS_GAINED_PER_STREAM', 'AVG_VIEWERS_PER_STREAM',\n",
    "                   'AVG_GAMES_PER_STREAM', 'TOTAL_TIME_STREAMED', 'TOTAL_FOLLOWERS', 'TOTAL_VIEWS',\n",
    "                   'TOTAL_GAMES_STREAMED', 'ACTIVE_DAYS_PER_WEEK']], dtype=np.float32)\n",
    "\n",
    "mean = np.mean(arr, axis=0)\n",
    "std = np.std(arr, axis=0)\n",
    "var = np.var(arr, axis=0)\n",
    "median = np.median(arr, axis=0)\n",
    "\n",
    "print(f\"{'Metric':<40}{'Mittelwert':<20}{'Standardabweichung':<20}{'Varianz':<20}{'Median':<20}\")\n",
    "labels = ['AVERAGE_STREAM_DURATION', 'FOLLOWERS_GAINED_PER_STREAM', 'AVG_VIEWERS_PER_STREAM', 'AVG_GAMES_PER_STREAM',\n",
    "          'TOTAL_TIME_STREAMED', 'TOTAL_FOLLOWERS', 'TOTAL_VIEWS', 'TOTAL_GAMES_STREAMED', 'ACTIVE_DAYS_PER_WEEK']\n",
    "for i in range(len(mean)):\n",
    "    print(f\"{labels[i]:<40}{mean[i]:<20.4f}{std[i]:<20.4f}{var[i]:<20.4f}{median[i]:<20.4f}\")"
   ],
   "id": "e8e68c1047eff5cf",
   "outputs": [
    {
     "name": "stdout",
     "output_type": "stream",
     "text": [
      "Metric                                  Mittelwert          Standardabweichung  Varianz             Median              \n",
      "AVERAGE_STREAM_DURATION                 5.9967              3.2394              10.4937             5.4000              \n",
      "FOLLOWERS_GAINED_PER_STREAM             3383.4456           2741.3232           7514853.0000        2450.0000           \n",
      "AVG_VIEWERS_PER_STREAM                  19595.0840          43219.9375          1867962880.0000     6393.0000           \n",
      "AVG_GAMES_PER_STREAM                    1.4779              0.5749              0.3305              1.3000              \n",
      "TOTAL_TIME_STREAMED                     6504.7417           6727.7944           45263216.0000       4756.0000           \n",
      "TOTAL_FOLLOWERS                         919403.3750         1724587.1250        2974200889344.0000  437000.0000         \n",
      "TOTAL_VIEWS                             30014780.0000       62771840.0000       3940303660646400.00006950000.0000        \n",
      "TOTAL_GAMES_STREAMED                    141.7077            245.8073            60421.2500          55.0000             \n",
      "ACTIVE_DAYS_PER_WEEK                    3.5914              1.7969              3.2288              3.8000              \n"
     ]
    }
   ],
   "execution_count": 6
  },
  {
   "metadata": {},
   "cell_type": "markdown",
   "source": "3 niedrigste und 3 höchste Werte der Spalte \"TOTAL_TIME_STREAMED\"",
   "id": "eecd50be86591e6a"
  },
  {
   "metadata": {
    "ExecuteTime": {
     "end_time": "2024-11-14T09:22:24.019013Z",
     "start_time": "2024-11-14T09:22:24.011913Z"
    }
   },
   "cell_type": "code",
   "source": [
    "#Sortiere das Array\n",
    "sorted_array = sorted(arr[:, 4])\n",
    "\n",
    "#Drei niedrigste Werte\n",
    "lowest_values = sorted_array[:3]\n",
    "\n",
    "#Drei höchste Werte\n",
    "highest_values = sorted_array[-3:]\n",
    "\n",
    "print(\"Die drei niedrigsten Werte:\", lowest_values)\n",
    "print(\"Die drei höchsten Werte:\", highest_values)"
   ],
   "id": "bea6cd6022e74e8f",
   "outputs": [
    {
     "name": "stdout",
     "output_type": "stream",
     "text": [
      "Die drei niedrigsten Werte: [27.0, 27.0, 39.0]\n",
      "Die drei höchsten Werte: [44732.0, 52432.0, 90920.0]\n"
     ]
    }
   ],
   "execution_count": 7
  },
  {
   "metadata": {},
   "cell_type": "markdown",
   "source": "Spaltenbezeichnungen sind sprechend gewählt, keine Änderungen nötig",
   "id": "646406d94f3d14a6"
  },
  {
   "metadata": {
    "ExecuteTime": {
     "end_time": "2024-11-14T09:22:24.210661Z",
     "start_time": "2024-11-14T09:22:24.193609Z"
    }
   },
   "cell_type": "code",
   "source": [
    "#alles von davor mit pandas\n",
    "data = df[['AVERAGE_STREAM_DURATION', 'FOLLOWERS_GAINED_PER_STREAM',\n",
    "           'AVG_VIEWERS_PER_STREAM', 'AVG_GAMES_PER_STREAM',\n",
    "           'TOTAL_TIME_STREAMED', 'TOTAL_FOLLOWERS',\n",
    "           'TOTAL_VIEWS', 'TOTAL_GAMES_STREAMED',\n",
    "           'ACTIVE_DAYS_PER_WEEK']]\n",
    "\n",
    "# Statistische Berechnungen mit Pandas\n",
    "mean = data.mean()\n",
    "std = data.std()\n",
    "var = data.var()\n",
    "median = data.median()\n",
    "\n",
    "# Zusammenstellen der Statistiken in einem DataFrame\n",
    "stats_df = pd.DataFrame({\n",
    "    'Mittelwert': mean,\n",
    "    'Standardabweichung': std,\n",
    "    'Varianz': var,\n",
    "    'Median': median\n",
    "})\n",
    "\n",
    "print(stats_df)\n"
   ],
   "id": "bee89d1e63c09e9",
   "outputs": [
    {
     "name": "stdout",
     "output_type": "stream",
     "text": [
      "                               Mittelwert  Standardabweichung       Varianz  \\\n",
      "AVERAGE_STREAM_DURATION      5.996697e+00        3.241013e+00  1.050417e+01   \n",
      "FOLLOWERS_GAINED_PER_STREAM  3.383445e+03        2.742696e+03  7.522383e+06   \n",
      "AVG_VIEWERS_PER_STREAM       1.959508e+04        4.324158e+04  1.869835e+09   \n",
      "AVG_GAMES_PER_STREAM         1.477878e+00        5.751893e-01  3.308428e-01   \n",
      "TOTAL_TIME_STREAMED          6.504742e+03        6.731164e+03  4.530857e+07   \n",
      "TOTAL_FOLLOWERS              9.194033e+05        1.725451e+06  2.977181e+12   \n",
      "TOTAL_VIEWS                  3.001478e+07        6.280328e+07  3.944252e+15   \n",
      "TOTAL_GAMES_STREAMED         1.417077e+02        2.459305e+02  6.048179e+04   \n",
      "ACTIVE_DAYS_PER_WEEK         3.591391e+00        1.797796e+00  3.232070e+00   \n",
      "\n",
      "                                Median  \n",
      "AVERAGE_STREAM_DURATION            5.4  \n",
      "FOLLOWERS_GAINED_PER_STREAM     2450.0  \n",
      "AVG_VIEWERS_PER_STREAM          6393.0  \n",
      "AVG_GAMES_PER_STREAM               1.3  \n",
      "TOTAL_TIME_STREAMED             4756.0  \n",
      "TOTAL_FOLLOWERS               437000.0  \n",
      "TOTAL_VIEWS                  6950000.0  \n",
      "TOTAL_GAMES_STREAMED              55.0  \n",
      "ACTIVE_DAYS_PER_WEEK               3.8  \n"
     ]
    }
   ],
   "execution_count": 8
  },
  {
   "metadata": {
    "ExecuteTime": {
     "end_time": "2024-11-14T09:22:24.695900Z",
     "start_time": "2024-11-14T09:22:24.309908Z"
    }
   },
   "cell_type": "code",
   "source": [
    "#Show data as boxplot with seaborn but only the for Followed gained per stream\n",
    "plt.figure(figsize=(10, 6))\n",
    "sns.boxplot(data=df[['FOLLOWERS_GAINED_PER_STREAM']])\n",
    "plt.title('Boxplot for Followers gained per Stream')\n",
    "plt.show()\n",
    "\n"
   ],
   "id": "c23b805a92a4aa4f",
   "outputs": [
    {
     "data": {
      "text/plain": [
       "<Figure size 1000x600 with 1 Axes>"
      ],
      "image/png": "[encoded data removed]"
     },
     "metadata": {},
     "output_type": "display_data"
    }
   ],
   "execution_count": 9
  },
  {
   "metadata": {
    "ExecuteTime": {
     "end_time": "2024-11-14T09:22:24.972314Z",
     "start_time": "2024-11-14T09:22:24.723079Z"
    }
   },
   "cell_type": "code",
   "source": [
    "#Create a Scatterplot for the columns 'TOTAL_FOLLOWERS' and 'TOTAL_VIEWS' \n",
    "plt.figure(figsize=(10, 6))\n",
    "plt.scatter(df['TOTAL_FOLLOWERS'], df['TOTAL_VIEWS'])\n",
    "plt.xlabel('Total Followers')\n",
    "plt.ylabel('Total Views')\n",
    "plt.title('Scatterplot for Total Followers and Total Views')\n",
    "plt.show()"
   ],
   "id": "7c3b4b062b2ad06d",
   "outputs": [
    {
     "data": {
      "text/plain": [
       "<Figure size 1000x600 with 1 Axes>"
      ],
      "image/png": "[encoded data removed]"
     },
     "metadata": {},
     "output_type": "display_data"
    }
   ],
   "execution_count": 10
  },
  {
   "metadata": {},
   "cell_type": "markdown",
   "source": "Es gibt keine Duplikate in den Daten.",
   "id": "43221a065cea3071"
  },
  {
   "metadata": {
    "ExecuteTime": {
     "end_time": "2024-11-14T09:22:25.017795Z",
     "start_time": "2024-11-14T09:22:25.007794Z"
    }
   },
   "cell_type": "code",
   "source": [
    "#Search for duplicates\n",
    "duplicates = df.duplicated()\n",
    "duplicates.sum()"
   ],
   "id": "e21f02f55856bd8b",
   "outputs": [
    {
     "data": {
      "text/plain": [
       "0"
      ]
     },
     "execution_count": 11,
     "metadata": {},
     "output_type": "execute_result"
    }
   ],
   "execution_count": 11
  },
  {
   "metadata": {},
   "cell_type": "markdown",
   "source": "Es gibt keine irelevanten Daten, da alle für unser Modell relevant sind.",
   "id": "1b778f1cda8ba04a"
  },
  {
   "metadata": {
    "ExecuteTime": {
     "end_time": "2024-11-14T09:22:25.132021Z",
     "start_time": "2024-11-14T09:22:25.124008Z"
    }
   },
   "cell_type": "code",
   "source": [
    "#Check for missing values\n",
    "missing_values = df.isnull().sum()\n",
    "missing_values"
   ],
   "id": "3602d7dac25d0cd7",
   "outputs": [
    {
     "data": {
      "text/plain": [
       "RANK                               0\n",
       "NAME                               0\n",
       "LANGUAGE                           0\n",
       "TYPE                               0\n",
       "MOST_STREAMED_GAME                 0\n",
       "2ND_MOST_STREAMED_GAME            77\n",
       "AVERAGE_STREAM_DURATION            0\n",
       "FOLLOWERS_GAINED_PER_STREAM        0\n",
       "AVG_VIEWERS_PER_STREAM             0\n",
       "AVG_GAMES_PER_STREAM               0\n",
       "TOTAL_TIME_STREAMED                0\n",
       "TOTAL_FOLLOWERS                    0\n",
       "TOTAL_VIEWS                        0\n",
       "TOTAL_GAMES_STREAMED               0\n",
       "ACTIVE_DAYS_PER_WEEK               0\n",
       "MOST_ACTIVE_DAY                    0\n",
       "DAY_WITH_MOST_FOLLOWERS_GAINED     0\n",
       "dtype: int64"
      ]
     },
     "execution_count": 12,
     "metadata": {},
     "output_type": "execute_result"
    }
   ],
   "execution_count": 12
  },
  {
   "metadata": {},
   "cell_type": "markdown",
   "source": "Bei null Werten bei 2nd most streamed game wird der Wert von MOST_STREAMED_GAME übernommen. SimpleInputer würde hier keinen Sinn machen, da es sehr wahrscheinlich zu fehleinschätzungen kommen würde.",
   "id": "8d5edbbe02c6d366"
  },
  {
   "metadata": {
    "ExecuteTime": {
     "end_time": "2024-11-14T09:22:25.207148Z",
     "start_time": "2024-11-14T09:22:25.202147Z"
    }
   },
   "cell_type": "code",
   "source": [
    "#If 2ND_MOST_STREAMED_GAME is missing, fill it with the MOST_STREAMED_GAME\n",
    "df['2ND_MOST_STREAMED_GAME'].fillna(df['MOST_STREAMED_GAME'], inplace=True)"
   ],
   "id": "3387867590403de5",
   "outputs": [],
   "execution_count": 13
  },
  {
   "metadata": {
    "ExecuteTime": {
     "end_time": "2024-11-14T09:40:15.601094Z",
     "start_time": "2024-11-14T09:40:15.062945Z"
    }
   },
   "cell_type": "code",
   "source": [
    "from sklearn.ensemble import RandomForestRegressor\n",
    "\n",
    "features = ['AVERAGE_STREAM_DURATION', 'TOTAL_FOLLOWERS',\n",
    "            'AVG_GAMES_PER_STREAM', 'TOTAL_TIME_STREAMED', 'RANK', 'TOTAL_VIEWS',\n",
    "            'ACTIVE_DAYS_PER_WEEK']\n",
    "X = df[features]\n",
    "y = df['AVG_VIEWERS_PER_STREAM']\n",
    "\n",
    "X_train, X_test, y_train, y_test = train_test_split(X, y, test_size=0.2, random_state=42)\n",
    "\n",
    "scaler = StandardScaler()\n",
    "X_train = scaler.fit_transform(X_train)\n",
    "X_test = scaler.transform(X_test)\n",
    "\n",
    "model = LinearRegression()\n",
    "model.fit(X_train, y_train)\n",
    "\n",
    "y_pred = model.predict(X_test)\n",
    "\n",
    "mse = mean_squared_error(y_test, y_pred)\n",
    "r2 = r2_score(y_test, y_pred)\n",
    "\n",
    "print(f'Mean Squared Error (MSE): {mse}')\n",
    "print(f'R² Score: {r2}')\n",
    "\n",
    "rf_model = RandomForestRegressor(random_state=42)\n",
    "rf_model.fit(X_train, y_train)\n",
    "y_pred_rf = rf_model.predict(X_test)\n",
    "mse_rf = mean_squared_error(y_test, y_pred_rf)\n",
    "r2_rf = r2_score(y_test, y_pred_rf)\n",
    "\n",
    "print(f'\\nRandom Forest - MSE: {mse_rf}')\n",
    "print(f'Random Forest - R² Score: {r2_rf}')"
   ],
   "id": "d0471a5bbc546990",
   "outputs": [
    {
     "name": "stdout",
     "output_type": "stream",
     "text": [
      "Mean Squared Error (MSE): 1139956722.3757966\n",
      "R² Score: 0.36718587860576346\n",
      "\n",
      "Random Forest - MSE: 685290047.8273336\n",
      "Random Forest - R² Score: 0.6195809796952026\n"
     ]
    }
   ],
   "execution_count": 47
  }
 ],
 "metadata": {
  "kernelspec": {
   "display_name": "Python 3",
   "language": "python",
   "name": "python3"
  },
  "language_info": {
   "codemirror_mode": {
    "name": "ipython",
    "version": 2
   },
   "file_extension": ".py",
   "mimetype": "text/x-python",
   "name": "python",
   "nbconvert_exporter": "python",
   "pygments_lexer": "ipython2",
   "version": "2.7.6"
  }
 },
 "nbformat": 4,
 "nbformat_minor": 5
}
